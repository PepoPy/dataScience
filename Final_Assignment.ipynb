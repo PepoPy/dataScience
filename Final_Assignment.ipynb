{
    "cells": [
        {
            "metadata": {
                "collapsed": true
            },
            "cell_type": "markdown",
            "source": "<h1>My Jupyter Notebook on IBM Watson Studio</h1>"
        },
        {
            "metadata": {},
            "cell_type": "markdown",
            "source": "<strong>Jose David Estrada Sotomayor</strong>\n<p>Developer</p>"
        },
        {
            "metadata": {},
            "cell_type": "markdown",
            "source": "<em>I'm interested in data science because I want to learn new things and I like learning programming languages. And I believe that data science will help me to find better career opportunities</em>"
        },
        {
            "metadata": {},
            "cell_type": "markdown",
            "source": "<h3>The following cell determines if a number is odd or even</h3>"
        },
        {
            "metadata": {},
            "cell_type": "code",
            "source": "a = 45\nif a % 2 == 0:\n    print(\"Even number\")\nelse:\n    print(\"Odd number\")",
            "execution_count": 1,
            "outputs": [
                {
                    "output_type": "stream",
                    "text": "Odd number\n",
                    "name": "stdout"
                }
            ]
        },
        {
            "metadata": {},
            "cell_type": "markdown",
            "source": "<hr>\nBulleted List\n<ul>\n    <li>Pyhton</li>\n    <li>Java</li>\n    <li>C++</li>\n</ul>\nNumbered List\n<ol>\n    <li>Brazil</li>\n    <li>Belgium</li>\n    <li>Argentina</li>\n</ol>\n<a href=\"https://www.fifa.com/fifa-world-ranking/men?dateId=id13792\">FIFA MEN RANKING</a>\n<hr>\n"
        }
    ],
    "metadata": {
        "kernelspec": {
            "name": "python3",
            "display_name": "Python 3.9",
            "language": "python"
        },
        "language_info": {
            "name": "python",
            "version": "3.9.13",
            "mimetype": "text/x-python",
            "codemirror_mode": {
                "name": "ipython",
                "version": 3
            },
            "pygments_lexer": "ipython3",
            "nbconvert_exporter": "python",
            "file_extension": ".py"
        }
    },
    "nbformat": 4,
    "nbformat_minor": 1
}